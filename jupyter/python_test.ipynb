{
 "cells": [
  {
   "cell_type": "code",
   "execution_count": 9,
   "id": "2707eee9-3304-4671-8c03-2787865e3526",
   "metadata": {
    "tags": []
   },
   "outputs": [],
   "source": [
    "NAVBAR_PATHS = {\n",
    "    'HOME':'home',\n",
    "    'ABOUT': 'about',\n",
    "    'ANALYSIS': 'analysis'\n",
    "}\n",
    "\n",
    "navbar_items = ''\n",
    "for key, value in NAVBAR_PATHS.items():\n",
    "    navbar_items += (f'<a class=\"navitem\" href=\"/?nav={value}\">{key}</a>')"
   ]
  },
  {
   "cell_type": "code",
   "execution_count": 10,
   "id": "5fdba36f-64c9-4d55-a559-ec6cb9989575",
   "metadata": {
    "tags": []
   },
   "outputs": [
    {
     "name": "stdout",
     "output_type": "stream",
     "text": [
      "<a class=\"navitem\" href=\"/?nav=home\">HOME</a><a class=\"navitem\" href=\"/?nav=about\">ABOUT</a><a class=\"navitem\" href=\"/?nav=analysis\">ANALYSIS</a>\n"
     ]
    }
   ],
   "source": [
    "print(navbar_items)"
   ]
  }
 ],
 "metadata": {
  "kernelspec": {
   "display_name": "Python 3 (ipykernel)",
   "language": "python",
   "name": "python3"
  },
  "language_info": {
   "codemirror_mode": {
    "name": "ipython",
    "version": 3
   },
   "file_extension": ".py",
   "mimetype": "text/x-python",
   "name": "python",
   "nbconvert_exporter": "python",
   "pygments_lexer": "ipython3",
   "version": "3.11.5"
  }
 },
 "nbformat": 4,
 "nbformat_minor": 5
}
